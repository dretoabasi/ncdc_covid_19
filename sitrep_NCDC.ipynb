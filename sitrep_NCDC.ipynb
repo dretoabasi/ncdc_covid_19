{
 "cells": [
  {
   "cell_type": "code",
   "execution_count": 552,
   "metadata": {
    "scrolled": true
   },
   "outputs": [
    {
     "data": {
      "text/plain": [
       "(2, 2, 2)"
      ]
     },
     "execution_count": 552,
     "metadata": {},
     "output_type": "execute_result"
    }
   ],
   "source": [
    "np.array([[[1,2],[3,4]],[[5,6],[7,8]]]).shape"
   ]
  },
  {
   "cell_type": "code",
   "execution_count": 573,
   "metadata": {},
   "outputs": [
    {
     "data": {
      "text/plain": [
       "array([[10,  6,  5],\n",
       "       [ 5,  8,  9]])"
      ]
     },
     "execution_count": 573,
     "metadata": {},
     "output_type": "execute_result"
    }
   ],
   "source": [
    "np.random.randint(5, 11, size=(2,3))"
   ]
  },
  {
   "cell_type": "code",
   "execution_count": 575,
   "metadata": {},
   "outputs": [
    {
     "data": {
      "text/plain": [
       "array([[0.21350669, 0.30176854, 0.3524159 ],\n",
       "       [0.52568785, 0.82339817, 0.45256408]])"
      ]
     },
     "execution_count": 575,
     "metadata": {},
     "output_type": "execute_result"
    }
   ],
   "source": [
    "np.random.random((2,3))"
   ]
  },
  {
   "cell_type": "code",
   "execution_count": 576,
   "metadata": {},
   "outputs": [
    {
     "data": {
      "text/plain": [
       "array([[0., 0., 0.],\n",
       "       [0., 0., 0.],\n",
       "       [0., 0., 0.]])"
      ]
     },
     "execution_count": 576,
     "metadata": {},
     "output_type": "execute_result"
    }
   ],
   "source": [
    "np.zeros((3,3))"
   ]
  },
  {
   "cell_type": "code",
   "execution_count": 582,
   "metadata": {},
   "outputs": [
    {
     "data": {
      "text/plain": [
       "array([[1., 1., 1.],\n",
       "       [1., 1., 1.],\n",
       "       [1., 1., 1.]])"
      ]
     },
     "execution_count": 582,
     "metadata": {},
     "output_type": "execute_result"
    }
   ],
   "source": [
    "np.ones((3,3))"
   ]
  },
  {
   "cell_type": "code",
   "execution_count": 585,
   "metadata": {},
   "outputs": [
    {
     "data": {
      "text/plain": [
       "array([[1., 0., 0., 0.],\n",
       "       [0., 1., 0., 0.],\n",
       "       [0., 0., 1., 0.],\n",
       "       [0., 0., 0., 1.]])"
      ]
     },
     "execution_count": 585,
     "metadata": {},
     "output_type": "execute_result"
    }
   ],
   "source": [
    "np.identity(4)"
   ]
  },
  {
   "cell_type": "code",
   "execution_count": 586,
   "metadata": {},
   "outputs": [
    {
     "data": {
      "text/plain": [
       "array([[1., 0., 0., 0.],\n",
       "       [0., 1., 0., 0.],\n",
       "       [0., 0., 1., 0.],\n",
       "       [0., 0., 0., 1.]])"
      ]
     },
     "execution_count": 586,
     "metadata": {},
     "output_type": "execute_result"
    }
   ],
   "source": [
    "np.eye(4)"
   ]
  },
  {
   "cell_type": "code",
   "execution_count": 622,
   "metadata": {},
   "outputs": [
    {
     "data": {
      "text/plain": [
       "False"
      ]
     },
     "execution_count": 622,
     "metadata": {},
     "output_type": "execute_result"
    }
   ],
   "source": [
    "x = (2 > 3)\n",
    "x"
   ]
  },
  {
   "cell_type": "code",
   "execution_count": 673,
   "metadata": {},
   "outputs": [
    {
     "data": {
      "text/plain": [
       "71"
      ]
     },
     "execution_count": 673,
     "metadata": {},
     "output_type": "execute_result"
    }
   ],
   "source": [
    "trials = []\n",
    "for i in range(100):\n",
    "    arr = np.random.randint(10, size=(4,4))\n",
    "    tup = len(arr[arr>5]), len(arr[arr<=5])\n",
    "    trials.append(tup)\n",
    "\n",
    "trials\n",
    "\n",
    "truths = []\n",
    "for trial in trials:\n",
    "    truth = ( trial[1] > trial[0])\n",
    "    truths.append(truth)\n",
    "\n",
    "sum(truths)"
   ]
  },
  {
   "cell_type": "code",
   "execution_count": null,
   "metadata": {},
   "outputs": [],
   "source": []
  },
  {
   "cell_type": "code",
   "execution_count": null,
   "metadata": {},
   "outputs": [],
   "source": []
  },
  {
   "cell_type": "code",
   "execution_count": null,
   "metadata": {},
   "outputs": [],
   "source": []
  },
  {
   "cell_type": "code",
   "execution_count": null,
   "metadata": {},
   "outputs": [],
   "source": []
  },
  {
   "cell_type": "code",
   "execution_count": null,
   "metadata": {},
   "outputs": [],
   "source": []
  },
  {
   "cell_type": "markdown",
   "metadata": {},
   "source": [
    "#### Import all modules:"
   ]
  },
  {
   "cell_type": "code",
   "execution_count": 200,
   "metadata": {},
   "outputs": [],
   "source": [
    "import regex as re\n",
    "import slate3k\n",
    "import pandas as pd\n",
    "import numpy as np\n",
    "import string\n",
    "import requests\n",
    "from bs4 import BeautifulSoup\n",
    "\n",
    "from os import listdir, rename\n",
    "from os.path import isfile, join"
   ]
  },
  {
   "cell_type": "markdown",
   "metadata": {},
   "source": [
    "#### List of files"
   ]
  },
  {
   "cell_type": "code",
   "execution_count": 207,
   "metadata": {},
   "outputs": [],
   "source": [
    "mypath = '/home/dretoabasi/portfolio/NCDC/pdf_files'\n",
    "\n",
    "filelist = sorted([join(mypath, file) for file in listdir(mypath) if isfile(join(mypath, file))])"
   ]
  },
  {
   "cell_type": "markdown",
   "metadata": {},
   "source": [
    "#### Read in the pdf from disk"
   ]
  },
  {
   "cell_type": "code",
   "execution_count": 2,
   "metadata": {},
   "outputs": [],
   "source": [
    "def read_in_pdf_file_from_disk(filename):\n",
    "    with open(filename, 'rb') as f:\n",
    "        pdftext = slate3k.PDF(f)\n",
    "        pdftext = list(pdftext)\n",
    "        print(\"file reading and parsing: SUCCESSFUL\")\n",
    "        print(\"There are **{}** pages in this pdf\".format(len(pdftext)))\n",
    "        return pdftext"
   ]
  },
  {
   "cell_type": "code",
   "execution_count": 206,
   "metadata": {
    "scrolled": true
   },
   "outputs": [
    {
     "name": "stderr",
     "output_type": "stream",
     "text": [
      "WARNING:pdfminer.layout:Too many boxes (407) to group, skipping.\n",
      "WARNING:pdfminer.layout:Too many boxes (249) to group, skipping.\n"
     ]
    },
    {
     "name": "stdout",
     "output_type": "stream",
     "text": [
      "file reading and parsing: SUCCESSFUL\n",
      "There are **5** pages in this pdf\n"
     ]
    }
   ],
   "source": [
    "pdftext = read_in_pdf_file_from_disk(filelist[113])"
   ]
  },
  {
   "cell_type": "markdown",
   "metadata": {},
   "source": [
    "#### Get the vital page: Current_text"
   ]
  },
  {
   "cell_type": "code",
   "execution_count": 429,
   "metadata": {},
   "outputs": [],
   "source": [
    "def get_current_text(pdftext, filelist_index):\n",
    "    for page in pdftext:\n",
    "        if filelist_index > 34:\n",
    "            temp = re.search(r'\\s*GENERAL ?FACT ?SHEET', page)\n",
    "        else:\n",
    "            temp = re.search(r' Summary of COVID-19 cases in Nigeria  \\n\\nStates', page)\n",
    "        if temp:\n",
    "            page = page.replace(',', '').replace('FCT', 'Abuja')\n",
    "            if filelist_index == 97:\n",
    "                page = re.sub(r'(\\w+)(\\n\\n)', '\\g<1> \\g<2>', page)\n",
    "            return page"
   ]
  },
  {
   "cell_type": "code",
   "execution_count": 324,
   "metadata": {},
   "outputs": [],
   "source": [
    "current_text = get_current_text(pdftext)\n",
    "\n",
    "current_text"
   ]
  },
  {
   "cell_type": "markdown",
   "metadata": {},
   "source": [
    " Get the <b>date</b> of report"
   ]
  },
  {
   "cell_type": "code",
   "execution_count": null,
   "metadata": {},
   "outputs": [],
   "source": [
    "34 ==> '\\n\\nAfrica (As at 5th April 2020) '\n",
    "30 ==> '\\n\\nGlobal (As at 1st April 2020) '"
   ]
  },
  {
   "cell_type": "code",
   "execution_count": 436,
   "metadata": {},
   "outputs": [],
   "source": [
    "def get_date(current_text, filelist_index):\n",
    "    if filelist_index == 97:\n",
    "        date = '20200607'\n",
    "        return date\n",
    "    if filelist_index >54:\n",
    "        date = re.search(r'(?<=DATA ?AS ?AT ?)\\w+[ \\w]+\\d+(?=\\s*)', current_text).group()\n",
    "    elif 35 <= filelist_index <= 54:\n",
    "        date = re.search(r'(?<=SHEET\\s+\\()\\w+[ \\w]+\\d+(?=\\)\\s+)', current_text).group()\n",
    "    elif filelist_index <= 34:\n",
    "        date = re.search(r'(?<=\\s+\\w+\\s+\\([ a-zA-Z]+)\\d+[ \\w]+\\d+(?=\\)\\s*)', current_text).group()\n",
    "        \n",
    "    date = pd.to_datetime(date).strftime('%Y%m%d')\n",
    "    return date"
   ]
  },
  {
   "cell_type": "code",
   "execution_count": null,
   "metadata": {},
   "outputs": [],
   "source": []
  },
  {
   "cell_type": "markdown",
   "metadata": {},
   "source": [
    "Get the 6 <b>Geopolitical zones</b>"
   ]
  },
  {
   "cell_type": "code",
   "execution_count": 18,
   "metadata": {},
   "outputs": [
    {
     "name": "stdout",
     "output_type": "stream",
     "text": [
      "Status code is 200\n"
     ]
    }
   ],
   "source": [
    "response = requests.get(\"https://en.wikipedia.org/wiki/Geopolitical_zones_of_Nigeria\")\n",
    "print(\"Status code is {}\".format(response.status_code))\n",
    "webpage = response.content"
   ]
  },
  {
   "cell_type": "code",
   "execution_count": 42,
   "metadata": {},
   "outputs": [],
   "source": [
    "soup = BeautifulSoup(webpage, \"html.parser\")"
   ]
  },
  {
   "cell_type": "code",
   "execution_count": 87,
   "metadata": {},
   "outputs": [],
   "source": [
    "main_tag = soup.find_all('div', class_=\"div-col columns column-width\".split())[0].contents[1]"
   ]
  },
  {
   "cell_type": "code",
   "execution_count": 407,
   "metadata": {
    "collapsed": true
   },
   "outputs": [
    {
     "data": {
      "text/plain": [
       "{'Benue': 'North Central',\n",
       " 'Kogi': 'North Central',\n",
       " 'Kwara': 'North Central',\n",
       " 'Nasarawa': 'North Central',\n",
       " 'Niger': 'North Central',\n",
       " 'Plateau': 'North Central',\n",
       " 'Abuja': 'North Central',\n",
       " 'Adamawa': 'North East',\n",
       " 'Bauchi': 'North East',\n",
       " 'Borno': 'North East',\n",
       " 'Gombe': 'North East',\n",
       " 'Taraba': 'North East',\n",
       " 'Yobe': 'North East',\n",
       " 'Jigawa': 'North West',\n",
       " 'Kaduna': 'North West',\n",
       " 'Kano': 'North West',\n",
       " 'Katsina': 'North West',\n",
       " 'Kebbi': 'North West',\n",
       " 'Sokoto': 'North West',\n",
       " 'Zamfara': 'North West',\n",
       " 'Abia': 'South East',\n",
       " 'Anambra': 'South East',\n",
       " 'Ebonyi': 'South East',\n",
       " 'Enugu': 'South East',\n",
       " 'Imo': 'South East',\n",
       " 'Akwa Ibom': 'South South',\n",
       " 'Bayelsa': 'South South',\n",
       " 'Cross River': 'South South',\n",
       " 'Rivers': 'South South',\n",
       " 'Delta': 'South South',\n",
       " 'Edo': 'South South',\n",
       " 'Ekiti': 'South West',\n",
       " 'Lagos': 'South West',\n",
       " 'Ogun': 'South West',\n",
       " 'Ondo': 'South West',\n",
       " 'Osun': 'South West',\n",
       " 'Oyo': 'South West'}"
      ]
     },
     "execution_count": 407,
     "metadata": {},
     "output_type": "execute_result"
    }
   ],
   "source": [
    "region_and_states = {}\n",
    "\n",
    "for li_tag in main_tag.find_all('li', recursive=False):\n",
    "    region = li_tag.b.get_text()\n",
    "    state_list = li_tag.ul.get_text().split('\\n')\n",
    "    for state in state_list:\n",
    "        state = state.replace('Federal Capital Territory','Abuja') if state == 'Federal Capital Territory' else state\n",
    "        region_and_states[state] = region\n",
    "\n",
    "region_and_states"
   ]
  },
  {
   "cell_type": "code",
   "execution_count": null,
   "metadata": {},
   "outputs": [],
   "source": []
  },
  {
   "cell_type": "markdown",
   "metadata": {},
   "source": [
    "Get the <b>Pattern</b>"
   ]
  },
  {
   "cell_type": "code",
   "execution_count": null,
   "metadata": {},
   "outputs": [],
   "source": [
    "\" \\n\\nOsun \\n\\n67 \\n\\n7 \\n\\n46 \\n\\n0 \\n\\n5 \\n\\n0 \\n\\n16 \\n\\n692 \\n\\n0\""
   ]
  },
  {
   "cell_type": "code",
   "execution_count": 765,
   "metadata": {},
   "outputs": [
    {
     "data": {
      "text/plain": [
       "'Lagos'"
      ]
     },
     "execution_count": 765,
     "metadata": {},
     "output_type": "execute_result"
    }
   ],
   "source": [
    "re.sub(r'.*\\s+Lagos', 'Lagos', list_[0][0], re.S)"
   ]
  },
  {
   "cell_type": "code",
   "execution_count": 754,
   "metadata": {
    "scrolled": true
   },
   "outputs": [
    {
     "data": {
      "text/plain": [
       "'Deaths \\n\\nLagos'"
      ]
     },
     "execution_count": 754,
     "metadata": {},
     "output_type": "execute_result"
    }
   ],
   "source": [
    "list_ = get_pattern(34).findall(current_text)\n",
    "list_[0][0]"
   ]
  },
  {
   "cell_type": "code",
   "execution_count": 728,
   "metadata": {},
   "outputs": [],
   "source": [
    "def get_pattern(filelist_index):\n",
    "    if filelist_index > 34: #(34 < filelist_index < 100):\n",
    "        pattern = re.compile(r'\\s+([A-Z][a-z]+\\s*[a-zA-Z]+) *((?:\\s+\\d+){7,8}\\s+(?:\\d+|N/A))')\n",
    "    elif filelist_index < 35:\n",
    "        pattern = re.compile(r'\\s+([A-Z][a-z]+\\s*[a-zA-Z]+) *((?:\\s+\\d+){3}\\s+(?:\\d+|N/A))')\n",
    "#     elif filelist_index > 99:\n",
    "#         pattern = re.compile(r'\\s+([A-Z][a-z]+\\s*[a-zA-Z]+) *((?:\\s+\\d+){7,8}\\s+(?:\\d+|N/A))')\n",
    "    \n",
    "    return pattern"
   ]
  },
  {
   "cell_type": "code",
   "execution_count": 442,
   "metadata": {
    "scrolled": false
   },
   "outputs": [
    {
     "data": {
      "text/plain": [
       "[('Lagos', '\\n\\n163 \\n\\n8 \\n\\n46 \\n\\n7 \\n\\n2 \\n\\n0 \\n\\n118 \\n\\n0'),\n",
       " ('Abuja', '\\n\\n56 \\n\\n2 \\n\\n7 \\n\\n0 \\n\\n2 \\n\\n0 \\n\\n47 \\n\\n0'),\n",
       " ('Osun', '\\n\\n20 \\n\\n0 \\n\\n1 \\n\\n0 \\n\\n0 \\n\\n0 \\n\\n19 \\n\\n7'),\n",
       " ('Edo', '\\n\\n12 \\n\\n0 \\n\\n0 \\n\\n0 \\n\\n1 \\n\\n0 \\n\\n11 \\n\\n2'),\n",
       " ('Oyo', '\\n\\n11 \\n\\n0 \\n\\n0 \\n\\n0 \\n\\n0 \\n\\n0 \\n\\n11 \\n\\n3'),\n",
       " ('Bauchi', '\\n\\n6 \\n\\n0 \\n\\n0 \\n\\n0 \\n\\n0 \\n\\n0 \\n\\n6 \\n\\n2'),\n",
       " ('Kaduna', '\\n\\n6 \\n\\n1 \\n\\n0 \\n\\n0 \\n\\n0 \\n\\n0 \\n\\n6 \\n\\n0'),\n",
       " ('Akwa Ibom', '\\n\\n5 \\n\\n0 \\n\\n0 \\n\\n0 \\n\\n0 \\n\\n0 \\n\\n5 \\n\\n9'),\n",
       " ('Ogun', '\\n\\n7 \\n\\n0 \\n\\n2 \\n\\n0 \\n\\n0 \\n\\n0 \\n\\n2 \\n\\n10'),\n",
       " ('Katsina', '\\n\\n4 \\n\\n3 \\n\\n0 \\n\\n0 \\n\\n1 \\n\\n0 \\n\\n3 \\n\\n0'),\n",
       " ('Ekiti', '\\n\\n2 \\n\\n0 \\n\\n1 \\n\\n0 \\n\\n0 \\n\\n0 \\n\\n1 \\n\\n9'),\n",
       " ('Enugu', '\\n\\n2 \\n\\n0 \\n\\n0 \\n\\n0 \\n\\n0 \\n\\n0 \\n\\n2 \\n\\n14'),\n",
       " ('Rivers', '\\n\\n2 \\n\\n0 \\n\\n1 \\n\\n0 \\n\\n0 \\n\\n0 \\n\\n1 \\n\\n4'),\n",
       " ('Kwara', '\\n\\n2 \\n\\n0 \\n\\n0 \\n\\n0 \\n\\n0 \\n\\n0 \\n\\n2 \\n\\n4'),\n",
       " ('Delta', '\\n\\n2 \\n\\n0 \\n\\n0 \\n\\n0 \\n\\n1 \\n\\n0 \\n\\n1 \\n\\n1'),\n",
       " ('Ondo', '\\n\\n2 \\n\\n1 \\n\\n0 \\n\\n0 \\n\\n0 \\n\\n0 \\n\\n2 \\n\\n0'),\n",
       " ('Benue', '\\n\\n1 \\n\\n0 \\n\\n0 \\n\\n0 \\n\\n0 \\n\\n0 \\n\\n1 \\n\\n13'),\n",
       " ('Anambra', '\\n\\n1 \\n\\n1 \\n\\n0 \\n\\n0 \\n\\n0 \\n\\n0 \\n\\n1 \\n\\n0'),\n",
       " ('Niger', '\\n\\n1 \\n\\n1 \\n\\n0 \\n\\n0 \\n\\n0 \\n\\n0 \\n\\n1 \\n\\n0')]"
      ]
     },
     "execution_count": 442,
     "metadata": {},
     "output_type": "execute_result"
    }
   ],
   "source": [
    "pattern.findall(current_text)"
   ]
  },
  {
   "cell_type": "markdown",
   "metadata": {},
   "source": [
    "Get the <b>Figures</b>"
   ]
  },
  {
   "cell_type": "code",
   "execution_count": 446,
   "metadata": {},
   "outputs": [
    {
     "data": {
      "text/plain": [
       "['163', '8', '46', '7', '2', '0', '118', '0']"
      ]
     },
     "execution_count": 446,
     "metadata": {},
     "output_type": "execute_result"
    }
   ],
   "source": [
    "re.split(r'\\D+','\\n\\n163 \\n\\n8 \\n\\n46 \\n\\n7 \\n\\n2 \\n\\n0 \\n\\n118 \\n\\n0'.strip())"
   ]
  },
  {
   "cell_type": "code",
   "execution_count": 720,
   "metadata": {},
   "outputs": [],
   "source": [
    "def get_figures(data, filelist_index):\n",
    "    \n",
    "    figures = []\n",
    "\n",
    "    for datum in data:\n",
    "        daily_figures = re.split(r'\\D+', datum[1].strip())\n",
    "        if len(daily_figures) == 8: #(34 < filelist_index < 100):\n",
    "            daily_figures.append(np.nan)\n",
    "        elif filelist_index < 35:\n",
    "            daily_figures[1] = np.nan\n",
    "            daily_figures.insert(3, np.nan)\n",
    "            daily_figures.extend([np.nan]*4)\n",
    "        elif (filelist_index > 99) and (filelist_index not in [106]):\n",
    "            daily_figures = np.array(daily_figures)\n",
    "            daily_figures[[7,8]] = daily_figures[[8,7]] #if filelist_index not in [106] else daily_figures\n",
    "            daily_figures = daily_figures.tolist()\n",
    "        \n",
    "        figures.append(daily_figures)\n",
    "    return figures"
   ]
  },
  {
   "cell_type": "code",
   "execution_count": 515,
   "metadata": {},
   "outputs": [
    {
     "data": {
      "text/plain": [
       "[1, nan, 78, nan, 10, nan, nan, nan, nan]"
      ]
     },
     "execution_count": 515,
     "metadata": {},
     "output_type": "execute_result"
    }
   ],
   "source": [
    "test = [1, 'a', 78, 10]\n",
    "test[1] = np.nan\n",
    "test.insert(3, np.nan)\n",
    "test.extend([np.nan]*4)\n",
    "test"
   ]
  },
  {
   "cell_type": "code",
   "execution_count": 521,
   "metadata": {},
   "outputs": [
    {
     "data": {
      "text/plain": [
       "['1', 'a', '10', '78']"
      ]
     },
     "execution_count": 521,
     "metadata": {},
     "output_type": "execute_result"
    }
   ],
   "source": [
    "test = np.array([1, 'a', 78, 10])\n",
    "test[[2,3]] = test[[3,2]]\n",
    "# test = list(np.array(test)[[0,1,3,2]])\n",
    "list(test)"
   ]
  },
  {
   "cell_type": "code",
   "execution_count": null,
   "metadata": {},
   "outputs": [],
   "source": [
    "figure filelist -- < 34  None[1,3]\n",
    "'''\n",
    "1 No. of Cases (Lab Confirmed) === TOTAL CONFIRMED CASES   0\n",
    "2 No. of Cases (on admission) === \n",
    "3 No. Discharged ==== TOTAL DISCHARGED CASES   2\n",
    "4 No of Deaths ==== TOTAL DEATHS   4\n",
    "'''"
   ]
  },
  {
   "cell_type": "code",
   "execution_count": null,
   "metadata": {},
   "outputs": [],
   "source": [
    "figures filelist 35 -- 99\n",
    "'''\n",
    "0 TOTAL CONFIRMED CASES\n",
    "1 CONFIRMED NEW CASES\n",
    "2 TOTAL DISCHARGED CASES\n",
    "3 NEW DISCHARGED CASES\n",
    "4 TOTAL DEATHS\n",
    "5 NEW DEATHS\n",
    "6 TOTAL ACTIVE CASES\n",
    "7 DAYS SINCE LAST REPORTED CASE\n",
    "'''\n",
    "figures filelist 100 --'''\n",
    "8 NO OF TESTS DONE'''"
   ]
  },
  {
   "cell_type": "markdown",
   "metadata": {},
   "source": [
    "Assemble into <b>dataframe</b>"
   ]
  },
  {
   "cell_type": "code",
   "execution_count": 768,
   "metadata": {},
   "outputs": [],
   "source": [
    "def create_df(current_text, region_and_states, pattern, filelist_index):\n",
    "    df1 = pd.DataFrame(columns=['Date',\n",
    "                                'State',\n",
    "                                'Geo_pol_zone'\n",
    "                               ])\n",
    "    \n",
    "    df2 = pd.DataFrame(columns=['Tot_Conf','New_Conf','Tot_disch','New_disch','Tot_Deaths',\n",
    "                                'New_Deaths', 'Tot_Active', 'days_slrc', 'Tot_num_tests'\n",
    "                               ])\n",
    "    \n",
    "    pattern = get_pattern(filelist_index)\n",
    "    data = pattern.findall(current_text)\n",
    "    date = get_date(current_text, filelist_index)\n",
    "    figures = get_figures(data, filelist_index)\n",
    "    index = 1\n",
    "\n",
    "    \n",
    "    for datum in data:\n",
    "        state = re.sub(r'\\s+', ' ', re.sub(r'.*\\s+Lagos', 'Lagos', datum[0]))\n",
    "        if region_and_states.get(state):\n",
    "            df1.loc[index] = [date,\n",
    "                              state,\n",
    "                              region_and_states.get(state)\n",
    "                             ]\n",
    "            df2.loc[index] = figures[index-1]\n",
    "        index += 1\n",
    "            \n",
    "    dframe = pd.concat([df1, df2], axis=1)  #df1.append(df2)\n",
    "        \n",
    "    return dframe"
   ]
  },
  {
   "cell_type": "code",
   "execution_count": 529,
   "metadata": {},
   "outputs": [],
   "source": [
    "pd.concat?"
   ]
  },
  {
   "cell_type": "code",
   "execution_count": null,
   "metadata": {},
   "outputs": [],
   "source": [
    "figure filelist -- < 34\n",
    "'''\n",
    "1 No. of Cases (Lab Confirmed) === TOTAL CONFIRMED CASES   1\n",
    "2 No. of Cases (on admission) === \n",
    "3 No. Discharged ==== TOTAL DISCHARGED CASES   3\n",
    "4 No of Deaths ==== TOTAL DEATHS   5\n",
    "'''"
   ]
  },
  {
   "cell_type": "code",
   "execution_count": null,
   "metadata": {},
   "outputs": [],
   "source": [
    "figures filelist 35 -- 99\n",
    "'''\n",
    "1 TOTAL CONFIRMED CASES\n",
    "2 CONFIRMED NEW CASES\n",
    "3 TOTAL DISCHARGED CASES\n",
    "4 NEW DISCHARGED CASES\n",
    "5 TOTAL DEATHS\n",
    "6 NEW DEATHS\n",
    "7 TOTAL ACTIVE CASES\n",
    "8 DAYS SINCE LAST REPORTED CASE\n",
    "'''\n",
    "figures filelist 100 --'''\n",
    "9 NO OF TESTS DONE'''\n"
   ]
  },
  {
   "cell_type": "code",
   "execution_count": 783,
   "metadata": {},
   "outputs": [
    {
     "name": "stdout",
     "output_type": "stream",
     "text": [
      "try:\r\n",
      "    do_something()\r\n",
      "except:\r\n",
      "    print \"Caught it!\"\r\n"
     ]
    }
   ],
   "source": [
    "!howdoi except all errors python"
   ]
  },
  {
   "cell_type": "code",
   "execution_count": 784,
   "metadata": {
    "collapsed": true
   },
   "outputs": [
    {
     "name": "stdout",
     "output_type": "stream",
     "text": [
      "file reading and parsing: SUCCESSFUL\n",
      "There are **2** pages in this pdf\n",
      "file reading and parsing: SUCCESSFUL\n",
      "There are **2** pages in this pdf\n",
      "file reading and parsing: SUCCESSFUL\n",
      "There are **2** pages in this pdf\n",
      "file reading and parsing: SUCCESSFUL\n",
      "There are **3** pages in this pdf\n",
      "file reading and parsing: SUCCESSFUL\n",
      "There are **3** pages in this pdf\n",
      "file reading and parsing: SUCCESSFUL\n",
      "There are **3** pages in this pdf\n",
      "file reading and parsing: SUCCESSFUL\n",
      "There are **3** pages in this pdf\n",
      "file reading and parsing: SUCCESSFUL\n",
      "There are **3** pages in this pdf\n",
      "file reading and parsing: SUCCESSFUL\n",
      "There are **3** pages in this pdf\n",
      "file reading and parsing: SUCCESSFUL\n",
      "There are **3** pages in this pdf\n",
      "file reading and parsing: SUCCESSFUL\n",
      "There are **2** pages in this pdf\n",
      "file reading and parsing: SUCCESSFUL\n",
      "There are **2** pages in this pdf\n",
      "file reading and parsing: SUCCESSFUL\n",
      "There are **2** pages in this pdf\n",
      "file reading and parsing: SUCCESSFUL\n",
      "There are **3** pages in this pdf\n",
      "file reading and parsing: SUCCESSFUL\n",
      "There are **2** pages in this pdf\n",
      "file reading and parsing: SUCCESSFUL\n",
      "There are **2** pages in this pdf\n",
      "file reading and parsing: SUCCESSFUL\n",
      "There are **3** pages in this pdf\n",
      "file reading and parsing: SUCCESSFUL\n",
      "There are **3** pages in this pdf\n",
      "file reading and parsing: SUCCESSFUL\n",
      "There are **3** pages in this pdf\n"
     ]
    },
    {
     "name": "stderr",
     "output_type": "stream",
     "text": [
      "WARNING:pdfminer.layout:Too many boxes (140) to group, skipping.\n"
     ]
    },
    {
     "name": "stdout",
     "output_type": "stream",
     "text": [
      "file reading and parsing: SUCCESSFUL\n",
      "There are **3** pages in this pdf\n"
     ]
    },
    {
     "name": "stderr",
     "output_type": "stream",
     "text": [
      "WARNING:pdfminer.layout:Too many boxes (129) to group, skipping.\n"
     ]
    },
    {
     "name": "stdout",
     "output_type": "stream",
     "text": [
      "file reading and parsing: SUCCESSFUL\n",
      "There are **3** pages in this pdf\n"
     ]
    },
    {
     "name": "stderr",
     "output_type": "stream",
     "text": [
      "WARNING:pdfminer.layout:Too many boxes (168) to group, skipping.\n"
     ]
    },
    {
     "name": "stdout",
     "output_type": "stream",
     "text": [
      "file reading and parsing: SUCCESSFUL\n",
      "There are **3** pages in this pdf\n"
     ]
    },
    {
     "name": "stderr",
     "output_type": "stream",
     "text": [
      "WARNING:pdfminer.layout:Too many boxes (159) to group, skipping.\n"
     ]
    },
    {
     "name": "stdout",
     "output_type": "stream",
     "text": [
      "file reading and parsing: SUCCESSFUL\n",
      "There are **3** pages in this pdf\n"
     ]
    },
    {
     "name": "stderr",
     "output_type": "stream",
     "text": [
      "WARNING:pdfminer.layout:Too many boxes (160) to group, skipping.\n"
     ]
    },
    {
     "name": "stdout",
     "output_type": "stream",
     "text": [
      "file reading and parsing: SUCCESSFUL\n",
      "There are **3** pages in this pdf\n"
     ]
    },
    {
     "name": "stderr",
     "output_type": "stream",
     "text": [
      "WARNING:pdfminer.layout:Too many boxes (180) to group, skipping.\n"
     ]
    },
    {
     "name": "stdout",
     "output_type": "stream",
     "text": [
      "file reading and parsing: SUCCESSFUL\n",
      "There are **3** pages in this pdf\n"
     ]
    },
    {
     "name": "stderr",
     "output_type": "stream",
     "text": [
      "WARNING:pdfminer.layout:Too many boxes (192) to group, skipping.\n"
     ]
    },
    {
     "name": "stdout",
     "output_type": "stream",
     "text": [
      "file reading and parsing: SUCCESSFUL\n",
      "There are **3** pages in this pdf\n",
      "file reading and parsing: SUCCESSFUL\n",
      "There are **3** pages in this pdf\n",
      "file reading and parsing: SUCCESSFUL\n",
      "There are **3** pages in this pdf\n",
      "file reading and parsing: SUCCESSFUL\n",
      "There are **3** pages in this pdf\n",
      "file reading and parsing: SUCCESSFUL\n",
      "There are **3** pages in this pdf\n"
     ]
    },
    {
     "name": "stderr",
     "output_type": "stream",
     "text": [
      "WARNING:pdfminer.layout:Too many boxes (115) to group, skipping.\n"
     ]
    },
    {
     "name": "stdout",
     "output_type": "stream",
     "text": [
      "file reading and parsing: SUCCESSFUL\n",
      "There are **3** pages in this pdf\n",
      "file reading and parsing: SUCCESSFUL\n",
      "There are **3** pages in this pdf\n"
     ]
    },
    {
     "name": "stderr",
     "output_type": "stream",
     "text": [
      "WARNING:pdfminer.layout:Too many boxes (142) to group, skipping.\n"
     ]
    },
    {
     "name": "stdout",
     "output_type": "stream",
     "text": [
      "file reading and parsing: SUCCESSFUL\n",
      "There are **3** pages in this pdf\n"
     ]
    },
    {
     "name": "stderr",
     "output_type": "stream",
     "text": [
      "WARNING:pdfminer.layout:Too many boxes (110) to group, skipping.\n"
     ]
    },
    {
     "name": "stdout",
     "output_type": "stream",
     "text": [
      "file reading and parsing: SUCCESSFUL\n",
      "There are **3** pages in this pdf\n"
     ]
    },
    {
     "name": "stderr",
     "output_type": "stream",
     "text": [
      "WARNING:pdfminer.layout:Too many boxes (106) to group, skipping.\n",
      "WARNING:pdfminer.layout:Too many boxes (161) to group, skipping.\n"
     ]
    },
    {
     "name": "stdout",
     "output_type": "stream",
     "text": [
      "file reading and parsing: SUCCESSFUL\n",
      "There are **3** pages in this pdf\n"
     ]
    },
    {
     "name": "stderr",
     "output_type": "stream",
     "text": [
      "WARNING:pdfminer.layout:Too many boxes (280) to group, skipping.\n"
     ]
    },
    {
     "name": "stdout",
     "output_type": "stream",
     "text": [
      "file reading and parsing: SUCCESSFUL\n",
      "There are **3** pages in this pdf\n"
     ]
    },
    {
     "name": "stderr",
     "output_type": "stream",
     "text": [
      "WARNING:pdfminer.layout:Too many boxes (323) to group, skipping.\n"
     ]
    },
    {
     "name": "stdout",
     "output_type": "stream",
     "text": [
      "file reading and parsing: SUCCESSFUL\n",
      "There are **3** pages in this pdf\n"
     ]
    },
    {
     "name": "stderr",
     "output_type": "stream",
     "text": [
      "WARNING:pdfminer.layout:Too many boxes (322) to group, skipping.\n"
     ]
    },
    {
     "name": "stdout",
     "output_type": "stream",
     "text": [
      "file reading and parsing: SUCCESSFUL\n",
      "There are **3** pages in this pdf\n"
     ]
    },
    {
     "name": "stderr",
     "output_type": "stream",
     "text": [
      "WARNING:pdfminer.layout:Too many boxes (354) to group, skipping.\n"
     ]
    },
    {
     "name": "stdout",
     "output_type": "stream",
     "text": [
      "file reading and parsing: SUCCESSFUL\n",
      "There are **3** pages in this pdf\n"
     ]
    },
    {
     "name": "stderr",
     "output_type": "stream",
     "text": [
      "WARNING:pdfminer.layout:Too many boxes (232) to group, skipping.\n"
     ]
    },
    {
     "name": "stdout",
     "output_type": "stream",
     "text": [
      "file reading and parsing: SUCCESSFUL\n",
      "There are **3** pages in this pdf\n"
     ]
    },
    {
     "name": "stderr",
     "output_type": "stream",
     "text": [
      "WARNING:pdfminer.layout:Too many boxes (270) to group, skipping.\n"
     ]
    },
    {
     "name": "stdout",
     "output_type": "stream",
     "text": [
      "file reading and parsing: SUCCESSFUL\n",
      "There are **3** pages in this pdf\n"
     ]
    },
    {
     "name": "stderr",
     "output_type": "stream",
     "text": [
      "WARNING:pdfminer.layout:Too many boxes (264) to group, skipping.\n"
     ]
    },
    {
     "name": "stdout",
     "output_type": "stream",
     "text": [
      "file reading and parsing: SUCCESSFUL\n",
      "There are **3** pages in this pdf\n"
     ]
    },
    {
     "name": "stderr",
     "output_type": "stream",
     "text": [
      "WARNING:pdfminer.layout:Too many boxes (272) to group, skipping.\n"
     ]
    },
    {
     "name": "stdout",
     "output_type": "stream",
     "text": [
      "file reading and parsing: SUCCESSFUL\n",
      "There are **3** pages in this pdf\n"
     ]
    },
    {
     "name": "stderr",
     "output_type": "stream",
     "text": [
      "WARNING:pdfminer.layout:Too many boxes (272) to group, skipping.\n"
     ]
    },
    {
     "name": "stdout",
     "output_type": "stream",
     "text": [
      "file reading and parsing: SUCCESSFUL\n",
      "There are **3** pages in this pdf\n"
     ]
    },
    {
     "name": "stderr",
     "output_type": "stream",
     "text": [
      "WARNING:pdfminer.layout:Too many boxes (272) to group, skipping.\n"
     ]
    },
    {
     "name": "stdout",
     "output_type": "stream",
     "text": [
      "file reading and parsing: SUCCESSFUL\n",
      "There are **3** pages in this pdf\n"
     ]
    },
    {
     "name": "stderr",
     "output_type": "stream",
     "text": [
      "WARNING:pdfminer.layout:Too many boxes (250) to group, skipping.\n"
     ]
    },
    {
     "name": "stdout",
     "output_type": "stream",
     "text": [
      "file reading and parsing: SUCCESSFUL\n",
      "There are **3** pages in this pdf\n"
     ]
    },
    {
     "name": "stderr",
     "output_type": "stream",
     "text": [
      "WARNING:pdfminer.layout:Too many boxes (241) to group, skipping.\n"
     ]
    },
    {
     "name": "stdout",
     "output_type": "stream",
     "text": [
      "file reading and parsing: SUCCESSFUL\n",
      "There are **3** pages in this pdf\n"
     ]
    },
    {
     "name": "stderr",
     "output_type": "stream",
     "text": [
      "WARNING:pdfminer.layout:Too many boxes (271) to group, skipping.\n"
     ]
    },
    {
     "name": "stdout",
     "output_type": "stream",
     "text": [
      "file reading and parsing: SUCCESSFUL\n",
      "There are **3** pages in this pdf\n"
     ]
    },
    {
     "name": "stderr",
     "output_type": "stream",
     "text": [
      "WARNING:pdfminer.layout:Too many boxes (199) to group, skipping.\n"
     ]
    },
    {
     "name": "stdout",
     "output_type": "stream",
     "text": [
      "file reading and parsing: SUCCESSFUL\n",
      "There are **3** pages in this pdf\n"
     ]
    },
    {
     "name": "stderr",
     "output_type": "stream",
     "text": [
      "WARNING:pdfminer.layout:Too many boxes (252) to group, skipping.\n"
     ]
    },
    {
     "name": "stdout",
     "output_type": "stream",
     "text": [
      "file reading and parsing: SUCCESSFUL\n",
      "There are **4** pages in this pdf\n"
     ]
    },
    {
     "name": "stderr",
     "output_type": "stream",
     "text": [
      "WARNING:pdfminer.layout:Too many boxes (252) to group, skipping.\n"
     ]
    },
    {
     "name": "stdout",
     "output_type": "stream",
     "text": [
      "file reading and parsing: SUCCESSFUL\n",
      "There are **4** pages in this pdf\n"
     ]
    },
    {
     "name": "stderr",
     "output_type": "stream",
     "text": [
      "WARNING:pdfminer.layout:Too many boxes (260) to group, skipping.\n"
     ]
    },
    {
     "name": "stdout",
     "output_type": "stream",
     "text": [
      "file reading and parsing: SUCCESSFUL\n",
      "There are **4** pages in this pdf\n"
     ]
    },
    {
     "name": "stderr",
     "output_type": "stream",
     "text": [
      "WARNING:pdfminer.layout:Too many boxes (270) to group, skipping.\n"
     ]
    },
    {
     "name": "stdout",
     "output_type": "stream",
     "text": [
      "file reading and parsing: SUCCESSFUL\n",
      "There are **4** pages in this pdf\n"
     ]
    },
    {
     "name": "stderr",
     "output_type": "stream",
     "text": [
      "WARNING:pdfminer.layout:Too many boxes (279) to group, skipping.\n"
     ]
    },
    {
     "name": "stdout",
     "output_type": "stream",
     "text": [
      "file reading and parsing: SUCCESSFUL\n",
      "There are **4** pages in this pdf\n"
     ]
    },
    {
     "name": "stderr",
     "output_type": "stream",
     "text": [
      "WARNING:pdfminer.layout:Too many boxes (288) to group, skipping.\n"
     ]
    },
    {
     "name": "stdout",
     "output_type": "stream",
     "text": [
      "file reading and parsing: SUCCESSFUL\n",
      "There are **4** pages in this pdf\n"
     ]
    },
    {
     "name": "stderr",
     "output_type": "stream",
     "text": [
      "WARNING:pdfminer.layout:Too many boxes (300) to group, skipping.\n"
     ]
    },
    {
     "name": "stdout",
     "output_type": "stream",
     "text": [
      "file reading and parsing: SUCCESSFUL\n",
      "There are **5** pages in this pdf\n"
     ]
    },
    {
     "name": "stderr",
     "output_type": "stream",
     "text": [
      "WARNING:pdfminer.layout:Too many boxes (322) to group, skipping.\n"
     ]
    },
    {
     "name": "stdout",
     "output_type": "stream",
     "text": [
      "file reading and parsing: SUCCESSFUL\n",
      "There are **4** pages in this pdf\n"
     ]
    },
    {
     "name": "stderr",
     "output_type": "stream",
     "text": [
      "WARNING:pdfminer.layout:Too many boxes (332) to group, skipping.\n",
      "WARNING:pdfminer.layout:Too many boxes (219) to group, skipping.\n"
     ]
    },
    {
     "name": "stdout",
     "output_type": "stream",
     "text": [
      "file reading and parsing: SUCCESSFUL\n",
      "There are **4** pages in this pdf\n"
     ]
    },
    {
     "name": "stderr",
     "output_type": "stream",
     "text": [
      "WARNING:pdfminer.layout:Too many boxes (346) to group, skipping.\n"
     ]
    },
    {
     "name": "stdout",
     "output_type": "stream",
     "text": [
      "file reading and parsing: SUCCESSFUL\n",
      "There are **4** pages in this pdf\n"
     ]
    },
    {
     "name": "stderr",
     "output_type": "stream",
     "text": [
      "WARNING:pdfminer.layout:Too many boxes (347) to group, skipping.\n"
     ]
    },
    {
     "name": "stdout",
     "output_type": "stream",
     "text": [
      "file reading and parsing: SUCCESSFUL\n",
      "There are **4** pages in this pdf\n"
     ]
    },
    {
     "name": "stderr",
     "output_type": "stream",
     "text": [
      "WARNING:pdfminer.layout:Too many boxes (347) to group, skipping.\n"
     ]
    },
    {
     "name": "stdout",
     "output_type": "stream",
     "text": [
      "file reading and parsing: SUCCESSFUL\n",
      "There are **4** pages in this pdf\n"
     ]
    },
    {
     "name": "stderr",
     "output_type": "stream",
     "text": [
      "WARNING:pdfminer.layout:Too many boxes (347) to group, skipping.\n"
     ]
    },
    {
     "name": "stdout",
     "output_type": "stream",
     "text": [
      "file reading and parsing: SUCCESSFUL\n",
      "There are **4** pages in this pdf\n"
     ]
    },
    {
     "name": "stderr",
     "output_type": "stream",
     "text": [
      "WARNING:pdfminer.layout:Too many boxes (347) to group, skipping.\n",
      "WARNING:pdfminer.layout:Too many boxes (233) to group, skipping.\n"
     ]
    },
    {
     "name": "stdout",
     "output_type": "stream",
     "text": [
      "file reading and parsing: SUCCESSFUL\n",
      "There are **4** pages in this pdf\n"
     ]
    },
    {
     "name": "stderr",
     "output_type": "stream",
     "text": [
      "WARNING:pdfminer.layout:Too many boxes (352) to group, skipping.\n",
      "WARNING:pdfminer.layout:Too many boxes (234) to group, skipping.\n"
     ]
    },
    {
     "name": "stdout",
     "output_type": "stream",
     "text": [
      "file reading and parsing: SUCCESSFUL\n",
      "There are **4** pages in this pdf\n"
     ]
    },
    {
     "name": "stderr",
     "output_type": "stream",
     "text": [
      "WARNING:pdfminer.layout:Too many boxes (347) to group, skipping.\n"
     ]
    },
    {
     "name": "stdout",
     "output_type": "stream",
     "text": [
      "file reading and parsing: SUCCESSFUL\n",
      "There are **4** pages in this pdf\n"
     ]
    },
    {
     "name": "stderr",
     "output_type": "stream",
     "text": [
      "WARNING:pdfminer.layout:Too many boxes (347) to group, skipping.\n"
     ]
    },
    {
     "name": "stdout",
     "output_type": "stream",
     "text": [
      "file reading and parsing: SUCCESSFUL\n",
      "There are **4** pages in this pdf\n"
     ]
    },
    {
     "name": "stderr",
     "output_type": "stream",
     "text": [
      "WARNING:pdfminer.layout:Too many boxes (347) to group, skipping.\n"
     ]
    },
    {
     "name": "stdout",
     "output_type": "stream",
     "text": [
      "file reading and parsing: SUCCESSFUL\n",
      "There are **4** pages in this pdf\n"
     ]
    },
    {
     "name": "stderr",
     "output_type": "stream",
     "text": [
      "WARNING:pdfminer.layout:Too many boxes (347) to group, skipping.\n"
     ]
    },
    {
     "name": "stdout",
     "output_type": "stream",
     "text": [
      "file reading and parsing: SUCCESSFUL\n",
      "There are **4** pages in this pdf\n"
     ]
    },
    {
     "name": "stderr",
     "output_type": "stream",
     "text": [
      "WARNING:pdfminer.layout:Too many boxes (347) to group, skipping.\n"
     ]
    },
    {
     "name": "stdout",
     "output_type": "stream",
     "text": [
      "file reading and parsing: SUCCESSFUL\n",
      "There are **4** pages in this pdf\n"
     ]
    },
    {
     "name": "stderr",
     "output_type": "stream",
     "text": [
      "WARNING:pdfminer.layout:Too many boxes (347) to group, skipping.\n"
     ]
    },
    {
     "name": "stdout",
     "output_type": "stream",
     "text": [
      "file reading and parsing: SUCCESSFUL\n",
      "There are **4** pages in this pdf\n"
     ]
    },
    {
     "name": "stderr",
     "output_type": "stream",
     "text": [
      "WARNING:pdfminer.layout:Too many boxes (349) to group, skipping.\n"
     ]
    },
    {
     "name": "stdout",
     "output_type": "stream",
     "text": [
      "file reading and parsing: SUCCESSFUL\n",
      "There are **4** pages in this pdf\n"
     ]
    },
    {
     "name": "stderr",
     "output_type": "stream",
     "text": [
      "WARNING:pdfminer.layout:Too many boxes (347) to group, skipping.\n"
     ]
    },
    {
     "name": "stdout",
     "output_type": "stream",
     "text": [
      "file reading and parsing: SUCCESSFUL\n",
      "There are **4** pages in this pdf\n"
     ]
    },
    {
     "name": "stderr",
     "output_type": "stream",
     "text": [
      "WARNING:pdfminer.layout:Too many boxes (347) to group, skipping.\n"
     ]
    },
    {
     "name": "stdout",
     "output_type": "stream",
     "text": [
      "file reading and parsing: SUCCESSFUL\n",
      "There are **4** pages in this pdf\n"
     ]
    },
    {
     "name": "stderr",
     "output_type": "stream",
     "text": [
      "WARNING:pdfminer.layout:Too many boxes (347) to group, skipping.\n"
     ]
    },
    {
     "name": "stdout",
     "output_type": "stream",
     "text": [
      "file reading and parsing: SUCCESSFUL\n",
      "There are **4** pages in this pdf\n"
     ]
    },
    {
     "name": "stderr",
     "output_type": "stream",
     "text": [
      "WARNING:pdfminer.layout:Too many boxes (350) to group, skipping.\n"
     ]
    },
    {
     "name": "stdout",
     "output_type": "stream",
     "text": [
      "file reading and parsing: SUCCESSFUL\n",
      "There are **4** pages in this pdf\n"
     ]
    },
    {
     "name": "stderr",
     "output_type": "stream",
     "text": [
      "WARNING:pdfminer.layout:Too many boxes (345) to group, skipping.\n"
     ]
    },
    {
     "name": "stdout",
     "output_type": "stream",
     "text": [
      "file reading and parsing: SUCCESSFUL\n",
      "There are **4** pages in this pdf\n"
     ]
    },
    {
     "name": "stderr",
     "output_type": "stream",
     "text": [
      "WARNING:pdfminer.layout:Too many boxes (347) to group, skipping.\n"
     ]
    },
    {
     "name": "stdout",
     "output_type": "stream",
     "text": [
      "file reading and parsing: SUCCESSFUL\n",
      "There are **4** pages in this pdf\n"
     ]
    },
    {
     "name": "stderr",
     "output_type": "stream",
     "text": [
      "WARNING:pdfminer.layout:Too many boxes (347) to group, skipping.\n",
      "WARNING:pdfminer.layout:Too many boxes (120) to group, skipping.\n",
      "WARNING:pdfminer.layout:Too many boxes (272) to group, skipping.\n"
     ]
    },
    {
     "name": "stdout",
     "output_type": "stream",
     "text": [
      "file reading and parsing: SUCCESSFUL\n",
      "There are **5** pages in this pdf\n"
     ]
    },
    {
     "name": "stderr",
     "output_type": "stream",
     "text": [
      "WARNING:pdfminer.layout:Too many boxes (347) to group, skipping.\n"
     ]
    },
    {
     "name": "stdout",
     "output_type": "stream",
     "text": [
      "file reading and parsing: SUCCESSFUL\n",
      "There are **4** pages in this pdf\n"
     ]
    },
    {
     "name": "stderr",
     "output_type": "stream",
     "text": [
      "WARNING:pdfminer.layout:Too many boxes (349) to group, skipping.\n"
     ]
    },
    {
     "name": "stdout",
     "output_type": "stream",
     "text": [
      "file reading and parsing: SUCCESSFUL\n",
      "There are **4** pages in this pdf\n"
     ]
    },
    {
     "name": "stderr",
     "output_type": "stream",
     "text": [
      "WARNING:pdfminer.layout:Too many boxes (347) to group, skipping.\n"
     ]
    },
    {
     "name": "stdout",
     "output_type": "stream",
     "text": [
      "file reading and parsing: SUCCESSFUL\n",
      "There are **4** pages in this pdf\n"
     ]
    },
    {
     "name": "stderr",
     "output_type": "stream",
     "text": [
      "WARNING:pdfminer.layout:Too many boxes (347) to group, skipping.\n"
     ]
    },
    {
     "name": "stdout",
     "output_type": "stream",
     "text": [
      "file reading and parsing: SUCCESSFUL\n",
      "There are **4** pages in this pdf\n"
     ]
    },
    {
     "name": "stderr",
     "output_type": "stream",
     "text": [
      "WARNING:pdfminer.layout:Too many boxes (347) to group, skipping.\n"
     ]
    },
    {
     "name": "stdout",
     "output_type": "stream",
     "text": [
      "file reading and parsing: SUCCESSFUL\n",
      "There are **4** pages in this pdf\n"
     ]
    },
    {
     "name": "stderr",
     "output_type": "stream",
     "text": [
      "WARNING:pdfminer.layout:Too many boxes (347) to group, skipping.\n"
     ]
    },
    {
     "name": "stdout",
     "output_type": "stream",
     "text": [
      "file reading and parsing: SUCCESSFUL\n",
      "There are **4** pages in this pdf\n"
     ]
    },
    {
     "name": "stderr",
     "output_type": "stream",
     "text": [
      "WARNING:pdfminer.layout:Too many boxes (347) to group, skipping.\n"
     ]
    },
    {
     "name": "stdout",
     "output_type": "stream",
     "text": [
      "file reading and parsing: SUCCESSFUL\n",
      "There are **4** pages in this pdf\n"
     ]
    },
    {
     "name": "stderr",
     "output_type": "stream",
     "text": [
      "WARNING:pdfminer.layout:Too many boxes (347) to group, skipping.\n",
      "WARNING:pdfminer.layout:Too many boxes (121) to group, skipping.\n"
     ]
    },
    {
     "name": "stdout",
     "output_type": "stream",
     "text": [
      "file reading and parsing: SUCCESSFUL\n",
      "There are **5** pages in this pdf\n"
     ]
    },
    {
     "name": "stderr",
     "output_type": "stream",
     "text": [
      "WARNING:pdfminer.layout:Too many boxes (357) to group, skipping.\n"
     ]
    },
    {
     "name": "stdout",
     "output_type": "stream",
     "text": [
      "file reading and parsing: SUCCESSFUL\n",
      "There are **4** pages in this pdf\n"
     ]
    },
    {
     "name": "stderr",
     "output_type": "stream",
     "text": [
      "WARNING:pdfminer.layout:Too many boxes (356) to group, skipping.\n"
     ]
    },
    {
     "name": "stdout",
     "output_type": "stream",
     "text": [
      "file reading and parsing: SUCCESSFUL\n",
      "There are **4** pages in this pdf\n"
     ]
    },
    {
     "name": "stderr",
     "output_type": "stream",
     "text": [
      "WARNING:pdfminer.layout:Too many boxes (356) to group, skipping.\n"
     ]
    },
    {
     "name": "stdout",
     "output_type": "stream",
     "text": [
      "file reading and parsing: SUCCESSFUL\n",
      "There are **5** pages in this pdf\n"
     ]
    },
    {
     "name": "stderr",
     "output_type": "stream",
     "text": [
      "WARNING:pdfminer.layout:Too many boxes (356) to group, skipping.\n"
     ]
    },
    {
     "name": "stdout",
     "output_type": "stream",
     "text": [
      "file reading and parsing: SUCCESSFUL\n",
      "There are **4** pages in this pdf\n"
     ]
    },
    {
     "name": "stderr",
     "output_type": "stream",
     "text": [
      "WARNING:pdfminer.layout:Too many boxes (356) to group, skipping.\n"
     ]
    },
    {
     "name": "stdout",
     "output_type": "stream",
     "text": [
      "file reading and parsing: SUCCESSFUL\n",
      "There are **5** pages in this pdf\n"
     ]
    },
    {
     "name": "stderr",
     "output_type": "stream",
     "text": [
      "WARNING:pdfminer.layout:Too many boxes (356) to group, skipping.\n"
     ]
    },
    {
     "name": "stdout",
     "output_type": "stream",
     "text": [
      "file reading and parsing: SUCCESSFUL\n",
      "There are **5** pages in this pdf\n"
     ]
    },
    {
     "name": "stderr",
     "output_type": "stream",
     "text": [
      "WARNING:pdfminer.layout:Too many boxes (406) to group, skipping.\n"
     ]
    },
    {
     "name": "stdout",
     "output_type": "stream",
     "text": [
      "file reading and parsing: SUCCESSFUL\n",
      "There are **5** pages in this pdf\n"
     ]
    },
    {
     "name": "stderr",
     "output_type": "stream",
     "text": [
      "WARNING:pdfminer.layout:Too many boxes (358) to group, skipping.\n"
     ]
    },
    {
     "name": "stdout",
     "output_type": "stream",
     "text": [
      "file reading and parsing: SUCCESSFUL\n",
      "There are **5** pages in this pdf\n"
     ]
    },
    {
     "name": "stderr",
     "output_type": "stream",
     "text": [
      "WARNING:pdfminer.layout:Too many boxes (356) to group, skipping.\n"
     ]
    },
    {
     "name": "stdout",
     "output_type": "stream",
     "text": [
      "file reading and parsing: SUCCESSFUL\n",
      "There are **4** pages in this pdf\n"
     ]
    },
    {
     "name": "stderr",
     "output_type": "stream",
     "text": [
      "WARNING:pdfminer.layout:Too many boxes (356) to group, skipping.\n"
     ]
    },
    {
     "name": "stdout",
     "output_type": "stream",
     "text": [
      "file reading and parsing: SUCCESSFUL\n",
      "There are **5** pages in this pdf\n"
     ]
    },
    {
     "name": "stderr",
     "output_type": "stream",
     "text": [
      "WARNING:pdfminer.layout:Too many boxes (356) to group, skipping.\n"
     ]
    },
    {
     "name": "stdout",
     "output_type": "stream",
     "text": [
      "file reading and parsing: SUCCESSFUL\n",
      "There are **5** pages in this pdf\n"
     ]
    },
    {
     "name": "stderr",
     "output_type": "stream",
     "text": [
      "WARNING:pdfminer.layout:Too many boxes (352) to group, skipping.\n"
     ]
    },
    {
     "name": "stdout",
     "output_type": "stream",
     "text": [
      "file reading and parsing: SUCCESSFUL\n",
      "There are **5** pages in this pdf\n"
     ]
    },
    {
     "name": "stderr",
     "output_type": "stream",
     "text": [
      "WARNING:pdfminer.layout:Too many boxes (354) to group, skipping.\n"
     ]
    },
    {
     "name": "stdout",
     "output_type": "stream",
     "text": [
      "file reading and parsing: SUCCESSFUL\n",
      "There are **4** pages in this pdf\n"
     ]
    },
    {
     "name": "stderr",
     "output_type": "stream",
     "text": [
      "WARNING:pdfminer.layout:Too many boxes (356) to group, skipping.\n"
     ]
    },
    {
     "name": "stdout",
     "output_type": "stream",
     "text": [
      "file reading and parsing: SUCCESSFUL\n",
      "There are **4** pages in this pdf\n"
     ]
    },
    {
     "name": "stderr",
     "output_type": "stream",
     "text": [
      "WARNING:pdfminer.layout:Too many boxes (412) to group, skipping.\n"
     ]
    },
    {
     "name": "stdout",
     "output_type": "stream",
     "text": [
      "file reading and parsing: SUCCESSFUL\n",
      "There are **4** pages in this pdf\n"
     ]
    },
    {
     "name": "stderr",
     "output_type": "stream",
     "text": [
      "WARNING:pdfminer.layout:Too many boxes (357) to group, skipping.\n"
     ]
    },
    {
     "name": "stdout",
     "output_type": "stream",
     "text": [
      "file reading and parsing: SUCCESSFUL\n",
      "There are **4** pages in this pdf\n"
     ]
    },
    {
     "name": "stderr",
     "output_type": "stream",
     "text": [
      "WARNING:pdfminer.layout:Too many boxes (357) to group, skipping.\n"
     ]
    },
    {
     "name": "stdout",
     "output_type": "stream",
     "text": [
      "file reading and parsing: SUCCESSFUL\n",
      "There are **6** pages in this pdf\n",
      "file reading and parsing: SUCCESSFUL\n",
      "There are **5** pages in this pdf\n"
     ]
    },
    {
     "name": "stderr",
     "output_type": "stream",
     "text": [
      "WARNING:pdfminer.layout:Too many boxes (356) to group, skipping.\n"
     ]
    },
    {
     "name": "stdout",
     "output_type": "stream",
     "text": [
      "file reading and parsing: SUCCESSFUL\n",
      "There are **4** pages in this pdf\n"
     ]
    },
    {
     "name": "stderr",
     "output_type": "stream",
     "text": [
      "WARNING:pdfminer.layout:Too many boxes (357) to group, skipping.\n"
     ]
    },
    {
     "name": "stdout",
     "output_type": "stream",
     "text": [
      "file reading and parsing: SUCCESSFUL\n",
      "There are **4** pages in this pdf\n"
     ]
    },
    {
     "name": "stderr",
     "output_type": "stream",
     "text": [
      "WARNING:pdfminer.layout:Too many boxes (411) to group, skipping.\n"
     ]
    },
    {
     "name": "stdout",
     "output_type": "stream",
     "text": [
      "file reading and parsing: SUCCESSFUL\n",
      "There are **4** pages in this pdf\n"
     ]
    },
    {
     "name": "stderr",
     "output_type": "stream",
     "text": [
      "WARNING:pdfminer.layout:Too many boxes (356) to group, skipping.\n"
     ]
    },
    {
     "name": "stdout",
     "output_type": "stream",
     "text": [
      "file reading and parsing: SUCCESSFUL\n",
      "There are **5** pages in this pdf\n"
     ]
    },
    {
     "name": "stderr",
     "output_type": "stream",
     "text": [
      "WARNING:pdfminer.layout:Too many boxes (356) to group, skipping.\n"
     ]
    },
    {
     "name": "stdout",
     "output_type": "stream",
     "text": [
      "file reading and parsing: SUCCESSFUL\n",
      "There are **5** pages in this pdf\n"
     ]
    },
    {
     "name": "stderr",
     "output_type": "stream",
     "text": [
      "WARNING:pdfminer.layout:Too many boxes (355) to group, skipping.\n"
     ]
    },
    {
     "name": "stdout",
     "output_type": "stream",
     "text": [
      "file reading and parsing: SUCCESSFUL\n",
      "There are **5** pages in this pdf\n"
     ]
    },
    {
     "name": "stderr",
     "output_type": "stream",
     "text": [
      "WARNING:pdfminer.layout:Too many boxes (355) to group, skipping.\n"
     ]
    },
    {
     "name": "stdout",
     "output_type": "stream",
     "text": [
      "file reading and parsing: SUCCESSFUL\n",
      "There are **5** pages in this pdf\n"
     ]
    },
    {
     "name": "stderr",
     "output_type": "stream",
     "text": [
      "WARNING:pdfminer.layout:Too many boxes (355) to group, skipping.\n"
     ]
    },
    {
     "name": "stdout",
     "output_type": "stream",
     "text": [
      "file reading and parsing: SUCCESSFUL\n",
      "There are **4** pages in this pdf\n"
     ]
    },
    {
     "name": "stderr",
     "output_type": "stream",
     "text": [
      "WARNING:pdfminer.layout:Too many boxes (355) to group, skipping.\n"
     ]
    },
    {
     "name": "stdout",
     "output_type": "stream",
     "text": [
      "file reading and parsing: SUCCESSFUL\n",
      "There are **4** pages in this pdf\n"
     ]
    },
    {
     "name": "stderr",
     "output_type": "stream",
     "text": [
      "WARNING:pdfminer.layout:Too many boxes (407) to group, skipping.\n",
      "WARNING:pdfminer.layout:Too many boxes (249) to group, skipping.\n"
     ]
    },
    {
     "name": "stdout",
     "output_type": "stream",
     "text": [
      "file reading and parsing: SUCCESSFUL\n",
      "There are **5** pages in this pdf\n"
     ]
    }
   ],
   "source": [
    "error_list = []\n",
    "for filelist_index, file in enumerate(filelist):\n",
    "    try:\n",
    "        pdftext = read_in_pdf_file_from_disk(file)\n",
    "        current_text = get_current_text(pdftext, filelist_index)\n",
    "        dframe = create_df(current_text, region_and_states, pattern, filelist_index)\n",
    "    except:#(TypeError, AttributeError, ValueError):\n",
    "        error_list.append(file)"
   ]
  },
  {
   "cell_type": "code",
   "execution_count": 786,
   "metadata": {
    "collapsed": true
   },
   "outputs": [
    {
     "data": {
      "text/plain": [
       "['/home/dretoabasi/portfolio/NCDC/pdf_files/file_001.pdf',\n",
       " '/home/dretoabasi/portfolio/NCDC/pdf_files/file_002.pdf',\n",
       " '/home/dretoabasi/portfolio/NCDC/pdf_files/file_003.pdf',\n",
       " '/home/dretoabasi/portfolio/NCDC/pdf_files/file_004.pdf',\n",
       " '/home/dretoabasi/portfolio/NCDC/pdf_files/file_005.pdf',\n",
       " '/home/dretoabasi/portfolio/NCDC/pdf_files/file_006.pdf',\n",
       " '/home/dretoabasi/portfolio/NCDC/pdf_files/file_007.pdf',\n",
       " '/home/dretoabasi/portfolio/NCDC/pdf_files/file_008.pdf',\n",
       " '/home/dretoabasi/portfolio/NCDC/pdf_files/file_009.pdf',\n",
       " '/home/dretoabasi/portfolio/NCDC/pdf_files/file_010.pdf',\n",
       " '/home/dretoabasi/portfolio/NCDC/pdf_files/file_011.pdf',\n",
       " '/home/dretoabasi/portfolio/NCDC/pdf_files/file_012.pdf',\n",
       " '/home/dretoabasi/portfolio/NCDC/pdf_files/file_013.pdf',\n",
       " '/home/dretoabasi/portfolio/NCDC/pdf_files/file_014.pdf',\n",
       " '/home/dretoabasi/portfolio/NCDC/pdf_files/file_015.pdf',\n",
       " '/home/dretoabasi/portfolio/NCDC/pdf_files/file_016.pdf',\n",
       " '/home/dretoabasi/portfolio/NCDC/pdf_files/file_017.pdf',\n",
       " '/home/dretoabasi/portfolio/NCDC/pdf_files/file_018.pdf',\n",
       " '/home/dretoabasi/portfolio/NCDC/pdf_files/file_019.pdf',\n",
       " '/home/dretoabasi/portfolio/NCDC/pdf_files/file_020.pdf',\n",
       " '/home/dretoabasi/portfolio/NCDC/pdf_files/file_023.pdf',\n",
       " '/home/dretoabasi/portfolio/NCDC/pdf_files/file_024.pdf',\n",
       " '/home/dretoabasi/portfolio/NCDC/pdf_files/file_027.pdf',\n",
       " '/home/dretoabasi/portfolio/NCDC/pdf_files/file_028.pdf',\n",
       " '/home/dretoabasi/portfolio/NCDC/pdf_files/file_029.pdf',\n",
       " '/home/dretoabasi/portfolio/NCDC/pdf_files/file_030.pdf',\n",
       " '/home/dretoabasi/portfolio/NCDC/pdf_files/file_032.pdf',\n",
       " '/home/dretoabasi/portfolio/NCDC/pdf_files/file_033.pdf',\n",
       " '/home/dretoabasi/portfolio/NCDC/pdf_files/file_108.pdf']"
      ]
     },
     "execution_count": 786,
     "metadata": {},
     "output_type": "execute_result"
    }
   ],
   "source": [
    "error_list"
   ]
  },
  {
   "cell_type": "code",
   "execution_count": 715,
   "metadata": {},
   "outputs": [
    {
     "data": {
      "text/plain": [
       "True"
      ]
     },
     "execution_count": 715,
     "metadata": {},
     "output_type": "execute_result"
    }
   ],
   "source": [
    "107 not in [106]"
   ]
  },
  {
   "cell_type": "code",
   "execution_count": 701,
   "metadata": {},
   "outputs": [
    {
     "data": {
      "text/plain": [
       "'20200611'"
      ]
     },
     "execution_count": 701,
     "metadata": {},
     "output_type": "execute_result"
    }
   ],
   "source": [
    "get_date(current_text, filelist_index)"
   ]
  },
  {
   "cell_type": "code",
   "execution_count": 770,
   "metadata": {
    "scrolled": true
   },
   "outputs": [
    {
     "data": {
      "text/plain": [
       "'COVID-19 Situation Report  \\n\\n2 | P a g e \\n\\n198 \\n\\nAfrica (As at 5th April 2020) 1 \\n\\nAfrican Countries with reported cases  \\n\\nNew \\n\\nCountries  \\n\\n(Within Last 24hrs) \\n\\nTotal \\n\\nCountries  \\n\\nAffected (N) \\n\\nAlgeria Angola Benin Botswana Burundi Burkina Faso Cabo Verde \\n\\nCameroon Chad Central African Republic Congo Cote D’Ivoire \\n\\nDemocratic Republic of Congo \\n\\n(DRC) Djibouti Egypt Equatorial \\n\\nGuinea Eritrea Eswatini Ethiopia Gabon Gambia Ghana Guinea \\n\\nKenya Liberia Madagascar Malawi Mauritania Mauritius Morocco \\n\\nMozambique Namibia Niger Nigeria Rwanda Senegal Seychelles \\n\\nSierra Leone Somalia South Africa Sudan Tanzania Togo Tunisia \\n\\nUganda Zambia and Zimbabwe \\n\\n- \\n\\n 49(54) * \\n\\n* 54 African countries \\n\\nTable 2: Summary of COVID-19 cases in Nigeria  \\n\\nStates Affected \\n\\nNo. of Cases (Lab Confirmed) \\n\\nNo. of Cases (on admission) \\n\\nNo. Discharged \\n\\nNo of Deaths \\n\\nLagos \\n\\n120 \\n\\n91 \\n\\n30 \\n\\n2 \\n\\nAbuja \\n\\n47 \\n\\n43 \\n\\n0 \\n\\n2 \\n\\nOsun \\n\\n20 \\n\\n20 \\n\\n0 \\n\\n0 \\n\\nOyo \\n\\n9 \\n\\n9 \\n\\n0 \\n\\n0 \\n\\nEdo \\n\\n9 \\n\\n8 \\n\\n0 \\n\\n1 \\n\\nBauchi \\n\\n6 \\n\\n6 \\n\\n0 \\n\\n0 \\n\\nAkwa Ibom \\n\\n5 \\n\\n5 \\n\\n0 \\n\\n0 \\n\\nKaduna \\n\\n5 \\n\\n4 \\n\\n0 \\n\\n0 \\n\\nOgun \\n\\n4 \\n\\n2 \\n\\n2 \\n\\n0 \\n\\nEnugu \\n\\n2 \\n\\n2 \\n\\n0 \\n\\n0 \\n\\nEkiti \\n\\n2 \\n\\n1 \\n\\n1 \\n\\n0 \\n\\nBenue \\n\\n1 \\n\\n1 \\n\\n0 \\n\\n0 \\n\\nRivers \\n\\n1 \\n\\n1 \\n\\n0 \\n\\n0 \\n\\nOndo \\n\\n1 \\n\\n1 \\n\\n0 \\n\\n0 \\n\\nTotal \\n\\n232 \\n\\n194 \\n\\n33 \\n\\n5 \\n\\nFig. 1: Map of Nigeria showing 14 COVID-19 affected states  \\n\\nFig. 2: Map of Nigeria showing 9 COVID-19 testing laboratories  \\n\\n \\n  \\n \\n  \\n  \\n  \\n  \\n \\n \\n \\n  \\n \\n \\n \\n \\n \\n \\n \\n \\n \\n \\n \\n \\n \\n \\n \\n \\n \\n \\n \\n \\n \\n \\n \\n \\n \\n \\n \\n \\n\\x0c'"
      ]
     },
     "execution_count": 770,
     "metadata": {},
     "output_type": "execute_result"
    }
   ],
   "source": [
    "current_text"
   ]
  },
  {
   "cell_type": "code",
   "execution_count": 540,
   "metadata": {},
   "outputs": [
    {
     "ename": "AttributeError",
     "evalue": "'NoneType' object has no attribute 'group'",
     "output_type": "error",
     "traceback": [
      "\u001b[0;31m---------------------------------------------------------------------------\u001b[0m",
      "\u001b[0;31mAttributeError\u001b[0m                            Traceback (most recent call last)",
      "\u001b[0;32m<ipython-input-540-97c9a2f073c9>\u001b[0m in \u001b[0;36m<module>\u001b[0;34m\u001b[0m\n\u001b[0;32m----> 1\u001b[0;31m \u001b[0mre\u001b[0m\u001b[0;34m.\u001b[0m\u001b[0msearch\u001b[0m\u001b[0;34m(\u001b[0m\u001b[0;34mr'(?<=SHEET\\s+\\()\\w+[ \\w]+\\d+(?=\\)\\s+)'\u001b[0m\u001b[0;34m,\u001b[0m \u001b[0mcurrent_text\u001b[0m\u001b[0;34m)\u001b[0m\u001b[0;34m.\u001b[0m\u001b[0mgroup\u001b[0m\u001b[0;34m(\u001b[0m\u001b[0;34m)\u001b[0m\u001b[0;34m\u001b[0m\u001b[0;34m\u001b[0m\u001b[0m\n\u001b[0m",
      "\u001b[0;31mAttributeError\u001b[0m: 'NoneType' object has no attribute 'group'"
     ]
    }
   ],
   "source": [
    "re.search(r'(?<=SHEET\\s+\\()\\w+[ \\w]+\\d+(?=\\)\\s+)', current_text).group()"
   ]
  },
  {
   "cell_type": "code",
   "execution_count": 291,
   "metadata": {},
   "outputs": [],
   "source": [
    "54 ==> '\\n\\nGENERAL FACT SHEET (April 25th 2020) \\n\\nSTATES'\n",
    "50 ==> '\\n\\nGENERAL FACT SHEET (April 21st 2020) \\n\\nSTATES'"
   ]
  },
  {
   "cell_type": "code",
   "execution_count": 402,
   "metadata": {
    "scrolled": false
   },
   "outputs": [],
   "source": [
    "current_text"
   ]
  },
  {
   "cell_type": "code",
   "execution_count": null,
   "metadata": {},
   "outputs": [],
   "source": []
  },
  {
   "cell_type": "code",
   "execution_count": 238,
   "metadata": {},
   "outputs": [
    {
     "data": {
      "text/plain": [
       "True"
      ]
     },
     "execution_count": 238,
     "metadata": {},
     "output_type": "execute_result"
    }
   ],
   "source": [
    "bool(109)"
   ]
  }
 ],
 "metadata": {
  "kernelspec": {
   "display_name": "Python 3",
   "language": "python",
   "name": "python3"
  },
  "language_info": {
   "codemirror_mode": {
    "name": "ipython",
    "version": 3
   },
   "file_extension": ".py",
   "mimetype": "text/x-python",
   "name": "python",
   "nbconvert_exporter": "python",
   "pygments_lexer": "ipython3",
   "version": "3.6.9"
  }
 },
 "nbformat": 4,
 "nbformat_minor": 2
}
