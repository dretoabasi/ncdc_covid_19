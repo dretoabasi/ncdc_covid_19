{
 "cells": [
  {
   "cell_type": "code",
   "execution_count": 1,
   "metadata": {},
   "outputs": [
    {
     "name": "stdout",
     "output_type": "stream",
     "text": [
      "bash\t\t    efibootmgr\tnano\t       sh.distrib\r\n",
      "btrfs\t\t    egrep\tnc\t       sleep\r\n",
      "btrfs-debug-tree    false\tnc.openbsd     ss\r\n",
      "btrfs-find-root     fgconsole\tnetcat\t       static-sh\r\n",
      "btrfs-image\t    fgrep\tnetstat        stty\r\n",
      "btrfs-map-logical   findmnt\tnetworkctl     su\r\n",
      "btrfs-select-super  fsck.btrfs\tnisdomainname  sync\r\n",
      "btrfs-zero-log\t    fuser\tntfs-3g        systemctl\r\n",
      "btrfsck\t\t    fusermount\tntfs-3g.probe  systemd\r\n",
      "btrfstune\t    getfacl\tntfscat        systemd-ask-password\r\n",
      "bunzip2\t\t    grep\tntfscluster    systemd-escape\r\n",
      "busybox\t\t    gunzip\tntfscmp        systemd-hwdb\r\n",
      "bzcat\t\t    gzexe\tntfsfallocate  systemd-inhibit\r\n",
      "bzcmp\t\t    gzip\tntfsfix        systemd-machine-id-setup\r\n",
      "bzdiff\t\t    hostname\tntfsinfo       systemd-notify\r\n",
      "bzegrep\t\t    ip\t\tntfsls\t       systemd-sysusers\r\n",
      "bzexe\t\t    journalctl\tntfsmove       systemd-tmpfiles\r\n",
      "bzfgrep\t\t    kbd_mode\tntfsrecover    systemd-tty-ask-password-agent\r\n",
      "bzgrep\t\t    kill\tntfssecaudit   tar\r\n",
      "bzip2\t\t    kmod\tntfstruncate   tempfile\r\n",
      "bzip2recover\t    less\tntfsusermap    touch\r\n",
      "bzless\t\t    lessecho\tntfswipe       true\r\n",
      "bzmore\t\t    lessfile\topen\t       udevadm\r\n",
      "cat\t\t    lesskey\topenvt\t       ulockmgr_server\r\n",
      "chacl\t\t    lesspipe\tpidof\t       umount\r\n",
      "chgrp\t\t    ln\t\tping\t       uname\r\n",
      "chmod\t\t    loadkeys\tping4\t       uncompress\r\n",
      "chown\t\t    login\tping6\t       unicode_start\r\n",
      "chvt\t\t    loginctl\tplymouth       vdir\r\n",
      "cp\t\t    lowntfs-3g\tps\t       wdctl\r\n",
      "cpio\t\t    ls\t\tpwd\t       which\r\n",
      "dash\t\t    lsblk\trbash\t       whiptail\r\n",
      "date\t\t    lsmod\treadlink       ypdomainname\r\n",
      "dd\t\t    mkdir\tred\t       zcat\r\n",
      "df\t\t    mkfs.btrfs\trm\t       zcmp\r\n",
      "dir\t\t    mknod\trmdir\t       zdiff\r\n",
      "dmesg\t\t    mktemp\trnano\t       zegrep\r\n",
      "dnsdomainname\t    more\trun-parts      zfgrep\r\n",
      "domainname\t    mount\tsed\t       zforce\r\n",
      "dumpkeys\t    mountpoint\tsetfacl        zgrep\r\n",
      "echo\t\t    mt\t\tsetfont        zless\r\n",
      "ed\t\t    mt-gnu\tsetupcon       zmore\r\n",
      "efibootdump\t    mv\t\tsh\t       znew\r\n"
     ]
    }
   ],
   "source": [
    "!ls /bin"
   ]
  },
  {
   "cell_type": "code",
   "execution_count": 2,
   "metadata": {},
   "outputs": [
    {
     "name": "stdout",
     "output_type": "stream",
     "text": [
      "!ls /bin\n",
      "%history\n"
     ]
    }
   ],
   "source": [
    "%history"
   ]
  },
  {
   "cell_type": "code",
   "execution_count": 3,
   "metadata": {},
   "outputs": [
    {
     "data": {
      "text/html": [
       "<marquee style='width: 100%; color: Green;'><b>Welcome to Tutorialspoint!</b></marquee>\n"
      ],
      "text/plain": [
       "<IPython.core.display.HTML object>"
      ]
     },
     "metadata": {},
     "output_type": "display_data"
    }
   ],
   "source": [
    "%%html\n",
    "<marquee style='width: 100%; color: Green;'><b>Welcome to Tutorialspoint!</b></marquee>"
   ]
  },
  {
   "cell_type": "code",
   "execution_count": 4,
   "metadata": {},
   "outputs": [
    {
     "data": {
      "text/html": [
       "<svg xmlns=\"https://www.w3.org/2000/svg\" viewBox=\"0 0 600 400\" width=\"400\" height=\"400\">\n",
       "   <rect x=\"10\" y=\"00\" width=\"300\" height=\"100\" rx=\"0\" style=\"fill:orange; stroke:black; fill-opacity:1.0\" />\n",
       "   <rect x=\"10\" y=\"100\" width=\"300\" height=\"100\" rx=\"0\" style=\"fill:white; stroke:black; fill-opacity:1.0;\" />\n",
       "   <rect x=\"10\" y=\"200\" width=\"300\" height=\"100\" rx=\"0\" style=\"fill:green; stroke:black; fill-opacity:1.0;\" />\n",
       "</svg>\n"
      ],
      "text/plain": [
       "<IPython.core.display.HTML object>"
      ]
     },
     "metadata": {},
     "output_type": "display_data"
    }
   ],
   "source": [
    "%%html\n",
    "<svg xmlns=\"https://www.w3.org/2000/svg\" viewBox=\"0 0 600 400\" width=\"400\" height=\"400\">\n",
    "   <rect x=\"10\" y=\"00\" width=\"300\" height=\"100\" rx=\"0\" style=\"fill:orange; stroke:black; fill-opacity:1.0\" />\n",
    "   <rect x=\"10\" y=\"100\" width=\"300\" height=\"100\" rx=\"0\" style=\"fill:white; stroke:black; fill-opacity:1.0;\" />\n",
    "   <rect x=\"10\" y=\"200\" width=\"300\" height=\"100\" rx=\"0\" style=\"fill:green; stroke:black; fill-opacity:1.0;\" />\n",
    "</svg>\n"
   ]
  },
  {
   "cell_type": "code",
   "execution_count": null,
   "metadata": {},
   "outputs": [],
   "source": []
  }
 ],
 "metadata": {
  "kernelspec": {
   "display_name": "Python 3",
   "language": "python",
   "name": "python3"
  },
  "language_info": {
   "codemirror_mode": {
    "name": "ipython",
    "version": 3
   },
   "file_extension": ".py",
   "mimetype": "text/x-python",
   "name": "python",
   "nbconvert_exporter": "python",
   "pygments_lexer": "ipython3",
   "version": "3.6.9"
  }
 },
 "nbformat": 4,
 "nbformat_minor": 2
}
