{
 "cells": [
  {
   "cell_type": "code",
   "execution_count": 16,
   "metadata": {},
   "outputs": [],
   "source": [
    "import requests\n",
    "from bs4 import BeautifulSoup\n",
    "import regex as re\n",
    "import slate3k"
   ]
  },
  {
   "cell_type": "code",
   "execution_count": 4,
   "metadata": {},
   "outputs": [
    {
     "data": {
      "text/plain": [
       "<Response [200]>"
      ]
     },
     "execution_count": 4,
     "metadata": {},
     "output_type": "execute_result"
    }
   ],
   "source": [
    "response = requests.get(\n",
    "    'https://ncdc.gov.ng/diseases/sitreps/?cat=14&name=An%20update%20of%20COVID-19%20outbreak%20in%20Nigeria'\n",
    ")\n",
    "\n",
    "response"
   ]
  },
  {
   "cell_type": "code",
   "execution_count": 9,
   "metadata": {},
   "outputs": [],
   "source": [
    "soup = BeautifulSoup(response.content, \"html.parser\")"
   ]
  },
  {
   "cell_type": "code",
   "execution_count": null,
   "metadata": {},
   "outputs": [],
   "source": [
    "a_tags = soup.find_all('a', download=re.compile(r'^An update of COVID-19', re.I))\n",
    "a_tags = a_tags[::-1]"
   ]
  },
  {
   "cell_type": "code",
   "execution_count": 37,
   "metadata": {
    "collapsed": true
   },
   "outputs": [
    {
     "data": {
      "text/plain": [
       "['https://ncdc.gov.ng/themes/common/files/sitreps/34a2340028bf9a6079f1ec7ff431612b.pdf',\n",
       " 'https://ncdc.gov.ng/themes/common/files/sitreps/6fff397781387dd2966611edaf776cc4.pdf',\n",
       " 'https://ncdc.gov.ng/themes/common/files/sitreps/5d83a97c894646068cdcaef38cd4da09.pdf',\n",
       " 'https://ncdc.gov.ng/themes/common/files/sitreps/f2207a3ebbcec6119eb984cd9aa7c071.pdf',\n",
       " 'https://ncdc.gov.ng/themes/common/files/sitreps/2d019348c618bc573fe47c7620e2a99e.pdf',\n",
       " 'https://ncdc.gov.ng/themes/common/files/sitreps/540e5a54315ebcf7e8af59eed183b4bb.pdf',\n",
       " 'https://ncdc.gov.ng/themes/common/files/sitreps/414bfc937b68e6165998afa7a533268e.pdf',\n",
       " 'https://ncdc.gov.ng/themes/common/files/sitreps/02ca174a32597a1e20536b86bed723c7.pdf',\n",
       " 'https://ncdc.gov.ng/themes/common/files/sitreps/2616eead5a41131edfb571638d163c58.pdf',\n",
       " 'https://ncdc.gov.ng/themes/common/files/sitreps/f850197e52de3527d8010fd4e6653c2f.pdf',\n",
       " 'https://ncdc.gov.ng/themes/common/files/sitreps/6280af8280ab0ff613bdf14dca3f9831.pdf',\n",
       " 'https://ncdc.gov.ng/themes/common/files/sitreps/7284b71cd5d077e10dc63052af356204.pdf',\n",
       " 'https://ncdc.gov.ng/themes/common/files/sitreps/f7e7e9580448c0601a779585a10098dd.pdf',\n",
       " 'https://ncdc.gov.ng/themes/common/files/sitreps/c0878afdda89d42733598932f33c3091.pdf',\n",
       " 'https://ncdc.gov.ng/themes/common/files/sitreps/bdc771d7b10d6113a7aeffd065c5976d.pdf',\n",
       " 'https://ncdc.gov.ng/themes/common/files/sitreps/e5a742c399141c11b2849acb992842a4.pdf',\n",
       " 'https://ncdc.gov.ng/themes/common/files/sitreps/c00529fd2ccbfc4b9ea0efb422f8fe46.pdf',\n",
       " 'https://ncdc.gov.ng/themes/common/files/sitreps/aae1efcf3d17a2854e38ebbfa82b27dd.pdf',\n",
       " 'https://ncdc.gov.ng/themes/common/files/sitreps/e38dbfac91ddf317f73ab2c29cc5460e.pdf',\n",
       " 'https://ncdc.gov.ng/themes/common/files/sitreps/489b818e56a27c65778dccc075caae48.pdf',\n",
       " 'https://ncdc.gov.ng/themes/common/files/sitreps/48ce2bb17c37c073f48cdbfedf5cf196.pdf',\n",
       " 'https://ncdc.gov.ng/themes/common/files/sitreps/c596d7ff619e86a5e2bb42a4b726c040.pdf',\n",
       " 'https://ncdc.gov.ng/themes/common/files/sitreps/3aef9fe7df17ea80bee09604aa641994.pdf',\n",
       " 'https://ncdc.gov.ng/themes/common/files/sitreps/b18fe4f50f2526a2afd6bac1af671c6f.pdf',\n",
       " 'https://ncdc.gov.ng/themes/common/files/sitreps/d65f1ee5ede23260500c7b245c01bb32.pdf',\n",
       " 'https://ncdc.gov.ng/themes/common/files/sitreps/8707184389b5620e999212ab3768d919.pdf',\n",
       " 'https://ncdc.gov.ng/themes/common/files/sitreps/1405d0d0291cae6afd769f9fbe585079.pdf',\n",
       " 'https://ncdc.gov.ng/themes/common/files/sitreps/e77170f8c90cdfc517455d8202418a52.pdf',\n",
       " 'https://ncdc.gov.ng/themes/common/files/sitreps/dbd5c26f6dfff1f35283848c141a6d56.pdf',\n",
       " 'https://ncdc.gov.ng/themes/common/files/sitreps/42cf1d7e4fc842650891dea2c88c4d3f.pdf',\n",
       " 'https://ncdc.gov.ng/themes/common/files/sitreps/09764885987185524aaec7b9e462fd51.pdf',\n",
       " 'https://ncdc.gov.ng/themes/common/files/sitreps/bdb25665b651f3ff6bccd5c612777505.pdf',\n",
       " 'https://ncdc.gov.ng/themes/common/files/sitreps/0102205c38204ea641b4bd2456a1586a.pdf',\n",
       " 'https://ncdc.gov.ng/themes/common/files/sitreps/b5f7f64234c3d04d55af959e3b76794f.pdf',\n",
       " 'https://ncdc.gov.ng/themes/common/files/sitreps/e7731ad4a2550d4f95fb8748f6b74540.pdf',\n",
       " 'https://ncdc.gov.ng/themes/common/files/sitreps/a31f5f66621d3c7957196d53567319bc.pdf',\n",
       " 'https://ncdc.gov.ng/themes/common/files/sitreps/684cf3e8c9481861e385c10cfe35849a.pdf',\n",
       " 'https://ncdc.gov.ng/themes/common/files/sitreps/05bcea41217e6131abb75ad7f950701a.pdf',\n",
       " 'https://ncdc.gov.ng/themes/common/files/sitreps/afa4955272c5eff5f187a7d313b2c36f.pdf',\n",
       " 'https://ncdc.gov.ng/themes/common/files/sitreps/fb6a6235a88a3116579586e8628fb76c.pdf',\n",
       " 'https://ncdc.gov.ng/themes/common/files/sitreps/a9b3f8a093e64251e75191e0427f3f7f.pdf',\n",
       " 'https://ncdc.gov.ng/themes/common/files/sitreps/e91fc9ac92ddd421a2e56e5bbae2981e.pdf',\n",
       " 'https://ncdc.gov.ng/themes/common/files/sitreps/43fad8b2c9f70eed298f9582941d067b.pdf',\n",
       " 'https://ncdc.gov.ng/themes/common/files/sitreps/fad375d17fe87cd2c4cf82b6c222ecbb.pdf',\n",
       " 'https://ncdc.gov.ng/themes/common/files/sitreps/4899b18e0f98920f78e8316174621fc3.pdf',\n",
       " 'https://ncdc.gov.ng/themes/common/files/sitreps/c9b4fa96a72b794d51d1defa03721209.pdf',\n",
       " 'https://ncdc.gov.ng/themes/common/files/sitreps/8df7d8ffd471f81e68ea6bd86227b01d.pdf',\n",
       " 'https://ncdc.gov.ng/themes/common/files/sitreps/407dd7d356089edd610aa94acc659974.pdf',\n",
       " 'https://ncdc.gov.ng/themes/common/files/sitreps/c7c73f429bbda476f1419011e1a10403.pdf',\n",
       " 'https://ncdc.gov.ng/themes/common/files/sitreps/7a2ef7abd88a2d8825c550ccd574dd4c.pdf',\n",
       " 'https://ncdc.gov.ng/themes/common/files/sitreps/250e33c225a7cd37421194dfc74146fe.pdf',\n",
       " 'https://ncdc.gov.ng/themes/common/files/sitreps/d179b39111a6974b4b4579fd89a5b75a.pdf',\n",
       " 'https://ncdc.gov.ng/themes/common/files/sitreps/5661d1289e658d120a5100b280732319.pdf',\n",
       " 'https://ncdc.gov.ng/themes/common/files/sitreps/64a90cdbf53c41483b849b256868c76a.pdf',\n",
       " 'https://ncdc.gov.ng/themes/common/files/sitreps/37f289c0a03a854ed7ce86cc786a2443.pdf',\n",
       " 'https://ncdc.gov.ng/themes/common/files/sitreps/a129a9d4a9dedc36e18b49469d5c027c.pdf',\n",
       " 'https://ncdc.gov.ng/themes/common/files/sitreps/69590045c6f044f44c515f12784bd172.pdf',\n",
       " 'https://ncdc.gov.ng/themes/common/files/sitreps/396fc7e7edad6f28623ce9bc7814547c.pdf',\n",
       " 'https://ncdc.gov.ng/themes/common/files/sitreps/a1e34df50ff0f8e86eb0c6ef0a26f53d.pdf',\n",
       " 'https://ncdc.gov.ng/themes/common/files/sitreps/0248af7855ac9228574bae81ed0cd56f.pdf',\n",
       " 'https://ncdc.gov.ng/themes/common/files/sitreps/5e8470699855513952f3ddd4cd4912bd.pdf',\n",
       " 'https://ncdc.gov.ng/themes/common/files/sitreps/dc963f3ea31cba0388297f73f6d5c8f5.pdf',\n",
       " 'https://ncdc.gov.ng/themes/common/files/sitreps/d36415a02a8ec856f72f06e539105cfb.pdf',\n",
       " 'https://ncdc.gov.ng/themes/common/files/sitreps/4bbad3afd7d75f66b2bad8817c9c2d36.pdf',\n",
       " 'https://ncdc.gov.ng/themes/common/files/sitreps/ca0ff2a88cb4af32c936974d0771661d.pdf',\n",
       " 'https://ncdc.gov.ng/themes/common/files/sitreps/9133bf60802087fca1f48b3719fd4780.pdf',\n",
       " 'https://ncdc.gov.ng/themes/common/files/sitreps/a141227eb36a21ae8c7ebe5433bdf19d.pdf',\n",
       " 'https://ncdc.gov.ng/themes/common/files/sitreps/0fa0c4e9d50ef88f23cc31200eb29963.pdf',\n",
       " 'https://ncdc.gov.ng/themes/common/files/sitreps/5fe7d3be99a0e2a0ad09595705006c14.pdf',\n",
       " 'https://ncdc.gov.ng/themes/common/files/sitreps/cc212dc379bffbacab24137654f428c2.pdf',\n",
       " 'https://ncdc.gov.ng/themes/common/files/sitreps/1511d6a1cd3dcac8007a55d02862c971.pdf',\n",
       " 'https://ncdc.gov.ng/themes/common/files/sitreps/3fa0cf5c659c47eb9b35ecb2876a5769.pdf',\n",
       " 'https://ncdc.gov.ng/themes/common/files/sitreps/73e5bf16cf386b74c9555f21202103e3.pdf',\n",
       " 'https://ncdc.gov.ng/themes/common/files/sitreps/caa20dea0ef7e8b135a226f861430c92.pdf',\n",
       " 'https://ncdc.gov.ng/themes/common/files/sitreps/718ed93be219aadf5f3e6f5a4695ef11.pdf',\n",
       " 'https://ncdc.gov.ng/themes/common/files/sitreps/19644c5a28522920de19a3ea09fd087f.pdf',\n",
       " 'https://ncdc.gov.ng/themes/common/files/sitreps/3e5ad47a9fb29d12651a8dc61d6950d1.pdf',\n",
       " 'https://ncdc.gov.ng/themes/common/files/sitreps/24c9da70c2155c50d8972281859a9c23.pdf',\n",
       " 'https://ncdc.gov.ng/themes/common/files/sitreps/ed5cb85a91a2efeea39771bf5528d1ed.pdf',\n",
       " 'https://ncdc.gov.ng/themes/common/files/sitreps/87e68bc490200d45226442bdbd0d228d.pdf']"
      ]
     },
     "execution_count": 37,
     "metadata": {},
     "output_type": "execute_result"
    }
   ],
   "source": [
    "urls = []\n",
    "for tag in a_tags:\n",
    "    url = \"https://ncdc.gov.ng\" + re.search(r'(?<=href=\")(.*)(?=\\.pdf)',str(tag)).group() + '.pdf'\n",
    "    urls.append(url)\n",
    "    \n",
    "urls"
   ]
  },
  {
   "cell_type": "code",
   "execution_count": null,
   "metadata": {},
   "outputs": [],
   "source": [
    "# # Download files\n",
    "# !mkdir ./COVID_19/pdf_files\n",
    "\n",
    "# for count, url in enumerate(urls):\n",
    "#     !curl -sS {url} > ./COVID_19/pdf_files/file_{count+1}.pdf"
   ]
  },
  {
   "cell_type": "code",
   "execution_count": 40,
   "metadata": {
    "scrolled": true
   },
   "outputs": [
    {
     "name": "stdout",
     "output_type": "stream",
     "text": [
      "if [ ! -d /home/mlzboy/b2c2/shared/db ]; then\r\n",
      "  mkdir -p /home/mlzboy/b2c2/shared/db;\r\n",
      "fi\r\n"
     ]
    }
   ],
   "source": [
    "!howdoi create directories bash"
   ]
  },
  {
   "cell_type": "code",
   "execution_count": 45,
   "metadata": {},
   "outputs": [],
   "source": [
    "!if [ ! -d ./pdf_files ]; then mkdir -p ./pdf_files; fi"
   ]
  },
  {
   "cell_type": "code",
   "execution_count": 51,
   "metadata": {},
   "outputs": [],
   "source": [
    "for count, url in enumerate(urls):\n",
    "    count = '{:03d}'.format(count + 1)\n",
    "    !curl -sS {url} > ./pdf_files/file_{count}.pdf"
   ]
  },
  {
   "cell_type": "code",
   "execution_count": 58,
   "metadata": {
    "collapsed": true
   },
   "outputs": [
    {
     "data": {
      "text/plain": [
       "['file_001.pdf',\n",
       " 'file_002.pdf',\n",
       " 'file_003.pdf',\n",
       " 'file_004.pdf',\n",
       " 'file_005.pdf',\n",
       " 'file_006.pdf',\n",
       " 'file_007.pdf',\n",
       " 'file_008.pdf',\n",
       " 'file_009.pdf',\n",
       " 'file_010.pdf',\n",
       " 'file_011.pdf',\n",
       " 'file_012.pdf',\n",
       " 'file_013.pdf',\n",
       " 'file_014.pdf',\n",
       " 'file_015.pdf',\n",
       " 'file_016.pdf',\n",
       " 'file_017.pdf',\n",
       " 'file_018.pdf',\n",
       " 'file_019.pdf',\n",
       " 'file_020.pdf',\n",
       " 'file_021.pdf',\n",
       " 'file_022.pdf',\n",
       " 'file_023.pdf',\n",
       " 'file_024.pdf',\n",
       " 'file_025.pdf',\n",
       " 'file_026.pdf',\n",
       " 'file_027.pdf',\n",
       " 'file_028.pdf',\n",
       " 'file_029.pdf',\n",
       " 'file_030.pdf',\n",
       " 'file_031.pdf',\n",
       " 'file_032.pdf',\n",
       " 'file_033.pdf',\n",
       " 'file_034.pdf',\n",
       " 'file_035.pdf',\n",
       " 'file_036.pdf',\n",
       " 'file_037.pdf',\n",
       " 'file_038.pdf',\n",
       " 'file_039.pdf',\n",
       " 'file_040.pdf',\n",
       " 'file_041.pdf',\n",
       " 'file_042.pdf',\n",
       " 'file_043.pdf',\n",
       " 'file_044.pdf',\n",
       " 'file_045.pdf',\n",
       " 'file_046.pdf',\n",
       " 'file_047.pdf',\n",
       " 'file_048.pdf',\n",
       " 'file_049.pdf',\n",
       " 'file_050.pdf',\n",
       " 'file_051.pdf',\n",
       " 'file_052.pdf',\n",
       " 'file_053.pdf',\n",
       " 'file_054.pdf',\n",
       " 'file_055.pdf',\n",
       " 'file_056.pdf',\n",
       " 'file_057.pdf',\n",
       " 'file_058.pdf',\n",
       " 'file_059.pdf',\n",
       " 'file_060.pdf',\n",
       " 'file_061.pdf',\n",
       " 'file_062.pdf',\n",
       " 'file_063.pdf',\n",
       " 'file_064.pdf',\n",
       " 'file_065.pdf',\n",
       " 'file_066.pdf',\n",
       " 'file_067.pdf',\n",
       " 'file_068.pdf',\n",
       " 'file_069.pdf',\n",
       " 'file_070.pdf',\n",
       " 'file_071.pdf',\n",
       " 'file_072.pdf',\n",
       " 'file_073.pdf',\n",
       " 'file_074.pdf',\n",
       " 'file_075.pdf',\n",
       " 'file_076.pdf',\n",
       " 'file_077.pdf',\n",
       " 'file_078.pdf',\n",
       " 'file_079.pdf',\n",
       " 'file_080.pdf']"
      ]
     },
     "execution_count": 58,
     "metadata": {},
     "output_type": "execute_result"
    }
   ],
   "source": [
    "x_"
   ]
  }
 ],
 "metadata": {
  "kernelspec": {
   "display_name": "Python 3",
   "language": "python",
   "name": "python3"
  },
  "language_info": {
   "codemirror_mode": {
    "name": "ipython",
    "version": 3
   },
   "file_extension": ".py",
   "mimetype": "text/x-python",
   "name": "python",
   "nbconvert_exporter": "python",
   "pygments_lexer": "ipython3",
   "version": "3.6.9"
  }
 },
 "nbformat": 4,
 "nbformat_minor": 2
}
